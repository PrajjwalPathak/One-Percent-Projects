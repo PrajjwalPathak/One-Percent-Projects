{
 "cells": [
  {
   "cell_type": "code",
   "execution_count": null,
   "id": "7ad8962d",
   "metadata": {},
   "outputs": [],
   "source": [
    "# Web Scraping C++ Programming Tutorial Data from Programiz\n",
    "\n",
    "import requests\n",
    "from bs4 import BeautifulSoup\n",
    "import pandas as pd"
   ]
  },
  {
   "cell_type": "code",
   "execution_count": null,
   "id": "9cd32c7b",
   "metadata": {},
   "outputs": [],
   "source": [
    "mainURL = \"https://www.programiz.com/cpp-programming\"\n",
    "\n",
    "page = requests.get(mainURL)\n",
    "htmlContent = page.content\n",
    "soup = BeautifulSoup(htmlContent, 'html.parser')\n",
    "\n",
    "urls = []\n",
    "pages = soup.find('div', {'class': 'right-bar'}).findAll(href=True)\n",
    "for slug in pages[:-7]:\n",
    "    urls.append('https://www.programiz.com' + slug.get('href'))"
   ]
  },
  {
   "cell_type": "code",
   "execution_count": null,
   "id": "2f9b4b44",
   "metadata": {},
   "outputs": [],
   "source": [
    "mainHeadings = []\n",
    "mainContents = []\n",
    "videoHeadings = []\n",
    "videoURLs = []\n",
    "subHeadingsH2 = []\n",
    "subHeadingsH3 = []\n",
    "imageURLs = []\n",
    "facts = []\n",
    "definitions = []\n",
    "explanations = []\n",
    "codes = []\n",
    "snippets = []\n",
    "outputs = []\n",
    "tableData = []\n",
    "listItems = []\n",
    "data = {}"
   ]
  },
  {
   "cell_type": "code",
   "execution_count": null,
   "id": "4abca2d7",
   "metadata": {},
   "outputs": [],
   "source": [
    "for url in urls:\n",
    "    page = requests.get(url)\n",
    "    htmlContent = page.content\n",
    "    soup = BeautifulSoup(htmlContent, 'html.parser')"
   ]
  },
  {
   "cell_type": "code",
   "execution_count": null,
   "id": "5d142730",
   "metadata": {},
   "outputs": [],
   "source": [
    "    mainHeading = soup.findAll('h1')  # Main Heading\n",
    "    pageMainHeadings = []\n",
    "    if mainHeading is not None:\n",
    "        for mainH in mainHeading:\n",
    "            pageMainHeadings.append(mainH.text)"
   ]
  },
  {
   "cell_type": "code",
   "execution_count": null,
   "id": "0e7e8736",
   "metadata": {},
   "outputs": [],
   "source": [
    "    mainContent = soup.findAll('p', {\"class\": \"editor-contents__short-description\"})  # Main Content\n",
    "    pageMainContents = []\n",
    "    if mainContent is not None:\n",
    "        for mainCon in mainContent:\n",
    "            pageMainContents.append(mainCon.text)"
   ]
  },
  {
   "cell_type": "code",
   "execution_count": null,
   "id": "470cd40d",
   "metadata": {},
   "outputs": [],
   "source": [
    "    videoHeading = soup.findAll('div', {\"class\": \"programiz-youtube-wrapper lite-youtube\"})  # Video Heading\n",
    "    pageVideoHeadings = []\n",
    "    if videoHeading is not None:\n",
    "        for vidHead in videoHeading:\n",
    "            pageVideoHeadings.append(vidHead.find('h2').text)"
   ]
  },
  {
   "cell_type": "code",
   "execution_count": null,
   "id": "7e2372ff",
   "metadata": {},
   "outputs": [],
   "source": [
    "    videoURL = soup.findAll('div', {\"class\": \"programiz-youtube__container\"})  # Video URL\n",
    "    pageVideoURLs = []\n",
    "    if videoURL is not None:\n",
    "        for vid in videoURL:\n",
    "            pageVideoURLs.append(vid.find('iframe').get('src'))"
   ]
  },
  {
   "cell_type": "code",
   "execution_count": null,
   "id": "559fc7b8",
   "metadata": {},
   "outputs": [],
   "source": [
    "    subContent = soup.find('div', {\"class\": \"content\"})  # Sub Content\n",
    "    if subContent is None:\n",
    "        continue  "
   ]
  },
  {
   "cell_type": "code",
   "execution_count": null,
   "id": "facde446-499c-4e50-a13c-19a507f13057",
   "metadata": {},
   "outputs": [],
   "source": [
    "    subHeadingH2 = subContent.findAll('h2')  # Sub Headings h2\n",
    "    pageSubHeadingsH2 = []\n",
    "    if subHeadingH2 is not None:\n",
    "        for head in subHeadingH2:\n",
    "            pageSubHeadingsH2.append(head.text)"
   ]
  },
  {
   "cell_type": "code",
   "execution_count": null,
   "id": "4b2fae0d",
   "metadata": {},
   "outputs": [],
   "source": [
    "    subHeadingH3 = subContent.findAll('h3')  # Sub Headings h3\n",
    "    pageSubHeadingsH3 = []\n",
    "    if subHeadingH3 is not None:\n",
    "        for head in subHeadingH3:\n",
    "            pageSubHeadingsH3.append(head.text)"
   ]
  },
  {
   "cell_type": "code",
   "execution_count": null,
   "id": "4e33068a",
   "metadata": {},
   "outputs": [],
   "source": [
    "    images = subContent.findAll('img')  # Images\n",
    "    pageImageURLs = []\n",
    "    if images is not None:\n",
    "        for img in images:\n",
    "            pageImageURLs.append(img.get('src'))"
   ]
  },
  {
   "cell_type": "code",
   "execution_count": null,
   "id": "5f9d4a92",
   "metadata": {},
   "outputs": [],
   "source": [
    "    paragraphs = subContent.findAll('p')  # Paragraphs\n",
    "    pageFacts = []\n",
    "    pageDefinitions = []\n",
    "    pageExplanations = []\n",
    "    if paragraphs is not None:\n",
    "        for para in paragraphs:\n",
    "            slug = para.text\n",
    "            if 5 <= len(slug) <= 65:\n",
    "                pageFacts.append(slug)\n",
    "            elif 66 <= len(slug) <= 126:\n",
    "                pageDefinitions.append(slug)\n",
    "            elif 127 < len(slug):\n",
    "                pageExplanations.append(slug)"
   ]
  },
  {
   "cell_type": "code",
   "execution_count": null,
   "id": "9b11c2d9",
   "metadata": {},
   "outputs": [],
   "source": [
    "    codeContent = subContent.findAll('pre')  # Codes, Snippets and Outputs\n",
    "    pageCodes = []\n",
    "    pageSnippets = []\n",
    "    pageOutputs = []\n",
    "    for slug in codeContent:\n",
    "        if slug.code is not None:\n",
    "            for cod in slug.code.text.split('\\n'):\n",
    "                if cod != '' and not cod.lstrip().rstrip().startswith('//'):\n",
    "                    if 7 < len(cod) <= 30:\n",
    "                        pageSnippets.append(cod)\n",
    "                    elif 31 < len(cod):\n",
    "                        pageCodes.append(cod)\n",
    "\n",
    "        else:\n",
    "            for out in slug.text.split('\\n'):\n",
    "                if out != '' and not out.lstrip().rstrip().startswith('//'):\n",
    "                    pageOutputs.append(out)\n",
    "                else:\n",
    "                    continue"
   ]
  },
  {
   "cell_type": "code",
   "execution_count": null,
   "id": "6aa6ea06",
   "metadata": {},
   "outputs": [],
   "source": [
    "    tables = subContent.findAll('table')  # Tables\n",
    "    pageTableData = []\n",
    "    if tables is not None:\n",
    "        for tb in tables:\n",
    "            table = \"\"\n",
    "            rowData = []\n",
    "            tableRows = tb.findAll('tr')\n",
    "            for row in tableRows:\n",
    "                rowData.append(row.text[1:-1].replace('\\n', '|||'))\n",
    "            for row in rowData:\n",
    "                table = table + str(row) + '&&&'\n",
    "            pageTableData.append(table[:-3])"
   ]
  },
  {
   "cell_type": "code",
   "execution_count": null,
   "id": "d59ee62f",
   "metadata": {},
   "outputs": [],
   "source": [
    "    allListUL = subContent.findAll('ul')  # List Items\n",
    "    allListOL = subContent.findAll('ol')\n",
    "    listUL = \"\"\n",
    "    listOL = \"\"\n",
    "    listItem = \"\"\n",
    "    pageListItems = []\n",
    "    if len(allListUL) != 0 or len(allListOL) != 0:\n",
    "        if len(allListUL) != 0:\n",
    "            for lis in allListUL:\n",
    "                listUL = listUL + str(lis.text).replace('\\n', '|||').replace('\\t\\t', '')\n",
    "        if len(allListOL) != 0:\n",
    "            for lis in allListOL:\n",
    "                listOL = listOL + str(lis.text).replace('\\n', '|||').replace('\\t\\t', '')\n",
    "\n",
    "        if len(allListUL) != 0 and len(allListOL) == 0:\n",
    "            listItem = listItem + listUL\n",
    "        elif len(allListUL) == 0 and len(allListOL) != 0:\n",
    "            listItem = listItem + listOL\n",
    "        else:\n",
    "            listItem = listItem + listUL + '&&&' + listOL\n",
    "        pageListItems.append(listItem)"
   ]
  },
  {
   "cell_type": "code",
   "execution_count": null,
   "id": "337b08a3",
   "metadata": {},
   "outputs": [],
   "source": [
    "    # print(pageMainHeadings)\n",
    "    # print(pageMainContents)\n",
    "    # print(pageVideoHeadings)\n",
    "    # print(pageVideoURLs)\n",
    "    # print(pageSubHeadingsH2)\n",
    "    # print(pageSubHeadingsH3)\n",
    "    # print(pageImageURLs)\n",
    "    # print(pageFacts)\n",
    "    # print(pageDefinitions)\n",
    "    # print(pageExplanations)\n",
    "    # print(pageSnippets)\n",
    "    # print(pageCodes)\n",
    "    # print(pageOutputs)\n",
    "    # print(pageTableData)\n",
    "    # print(pageListItems)"
   ]
  },
  {
   "cell_type": "code",
   "execution_count": null,
   "id": "43e9116a",
   "metadata": {},
   "outputs": [],
   "source": [
    "    mainHeadings.append(pageMainHeadings)\n",
    "    mainContents.append(pageMainContents)\n",
    "    videoHeadings.append(pageVideoHeadings)\n",
    "    videoURLs.append(pageVideoURLs)\n",
    "    subHeadingsH2.append(pageSubHeadingsH2)\n",
    "    subHeadingsH3.append(pageSubHeadingsH3)\n",
    "    imageURLs.append(pageImageURLs)\n",
    "    facts.append(pageFacts)\n",
    "    definitions.append(pageDefinitions)\n",
    "    explanations.append(pageExplanations)\n",
    "    snippets.append(pageSnippets)\n",
    "    codes.append(pageCodes)\n",
    "    outputs.append(pageOutputs)\n",
    "    tableData.append(pageTableData)\n",
    "    listItems.append(pageListItems)"
   ]
  },
  {
   "cell_type": "code",
   "execution_count": null,
   "id": "66a4df9e",
   "metadata": {},
   "outputs": [],
   "source": [
    "data = {'main_headings': mainHeadings, 'main_contents': mainContents, 'video_headings': videoHeadings,\n",
    "        'video_urls': videoURLs, 'sub_headings_h2': subHeadingsH2, 'sub_headings_h3': subHeadingsH3,\n",
    "        'image_urls': imageURLs, 'facts': facts, 'definitions': definitions, 'explanations': explanations,\n",
    "        'snippets': snippets, 'codes': codes, 'outputs': outputs, 'table_data': tableData, 'list_items': listItems}\n",
    "\n",
    "df = pd.DataFrame(data)\n",
    "df.to_csv('Programiz-Cpp-Data.csv')"
   ]
  }
 ],
 "metadata": {
  "kernelspec": {
   "display_name": "Python 3 (ipykernel)",
   "language": "python",
   "name": "python3"
  },
  "language_info": {
   "codemirror_mode": {
    "name": "ipython",
    "version": 3
   },
   "file_extension": ".py",
   "mimetype": "text/x-python",
   "name": "python",
   "nbconvert_exporter": "python",
   "pygments_lexer": "ipython3",
   "version": "3.9.7"
  }
 },
 "nbformat": 4,
 "nbformat_minor": 5
}
