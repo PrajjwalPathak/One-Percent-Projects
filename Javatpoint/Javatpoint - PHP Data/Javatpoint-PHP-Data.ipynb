{
 "cells": [
  {
   "cell_type": "code",
   "execution_count": null,
   "id": "901caa63",
   "metadata": {},
   "outputs": [],
   "source": [
    "# Web Scraping PHP Tutorial Data from Javatpoint\n",
    "\n",
    "import requests\n",
    "from bs4 import BeautifulSoup\n",
    "import pandas as pd"
   ]
  },
  {
   "cell_type": "code",
   "execution_count": null,
   "id": "60271139",
   "metadata": {},
   "outputs": [],
   "source": [
    "mainURL = \"https://www.javatpoint.com/php-tutorial\"\n",
    "\n",
    "page = requests.get(mainURL)\n",
    "htmlContent = page.content\n",
    "soup = BeautifulSoup(htmlContent, 'html.parser')\n",
    "\n",
    "urls = []\n",
    "pages = soup.find('div', {'id': 'menu'}).findAll(href=True)\n",
    "for slug in pages[:-11]:\n",
    "    if slug is not None:\n",
    "        urls.append('https://www.javatpoint.com/' + slug.get('href'))"
   ]
  },
  {
   "cell_type": "code",
   "execution_count": null,
   "id": "a5639c57",
   "metadata": {},
   "outputs": [],
   "source": [
    "mainHeadings = []\n",
    "mainContents = []\n",
    "links = []\n",
    "imageURLs = []\n",
    "videoURLs = []\n",
    "subHeadingsH2 = []\n",
    "subHeadingsH3 = []\n",
    "subHeadingsH4 = []\n",
    "facts = []\n",
    "definitions = []\n",
    "explanations = []\n",
    "codes = []\n",
    "outputs = []\n",
    "tableData = []\n",
    "listItems = []\n",
    "data = {}"
   ]
  },
  {
   "cell_type": "code",
   "execution_count": null,
   "id": "92e7f8db-a152-4ad2-82c1-5fdbcf62033e",
   "metadata": {},
   "outputs": [],
   "source": [
    "for url in urls:\n",
    "    page = requests.get(url)\n",
    "    htmlContent = page.content\n",
    "    soup = BeautifulSoup(htmlContent, 'html.parser')"
   ]
  },
  {
   "cell_type": "code",
   "execution_count": null,
   "id": "c477226c-9547-4a2f-8c45-2e3a22d15305",
   "metadata": {},
   "outputs": [],
   "source": [
    "    subContent = soup.find('div', {\"id\": \"city\"})  # Sub Content\n",
    "    if subContent is None:\n",
    "        continue"
   ]
  },
  {
   "cell_type": "code",
   "execution_count": null,
   "id": "ff65fc73",
   "metadata": {},
   "outputs": [],
   "source": [
    "    mainHeading = subContent.findAll('h1')  # Main Heading\n",
    "    pageMainHeadings = []\n",
    "    if mainHeading is not None:\n",
    "        for head in mainHeading:\n",
    "            pageMainHeadings.append(head.text)"
   ]
  },
  {
   "cell_type": "code",
   "execution_count": null,
   "id": "8fb88392",
   "metadata": {},
   "outputs": [],
   "source": [
    "    mainContent = subContent.find('p')  # Main Content\n",
    "    pageMainContents = []\n",
    "    if mainContent is not None:\n",
    "        pageMainContents.append(mainContent.text)"
   ]
  },
  {
   "cell_type": "code",
   "execution_count": null,
   "id": "4e7001ba",
   "metadata": {},
   "outputs": [],
   "source": [
    "    link = subContent.findAll('a')  # Page Links\n",
    "    pageLinks = []\n",
    "    if link is not None:\n",
    "        for lin in link:\n",
    "            pageLinks.append('https://www.javatpoint.com/' + str(lin.get('href')))"
   ]
  },
  {
   "cell_type": "code",
   "execution_count": null,
   "id": "099bb5b5",
   "metadata": {},
   "outputs": [],
   "source": [
    "    images = subContent.findAll('img')  # Images\n",
    "    pageImageURLs = []\n",
    "    if images is not None:\n",
    "        for img in images:\n",
    "            if not str(img.get('src')).startswith('http'):\n",
    "                pageImageURLs.append('https://www.javatpoint.com/' + str(img.get('src')))\n",
    "            else:\n",
    "                pageImageURLs.append(img.get('src'))"
   ]
  },
  {
   "cell_type": "code",
   "execution_count": null,
   "id": "aa4752e1",
   "metadata": {},
   "outputs": [],
   "source": [
    "    videos = subContent.findAll('div', {\"class\": \"video-responsive\"})  # Video URL\n",
    "    pageVideoURLs = []\n",
    "    if videos is not None:\n",
    "        for vid in videos:\n",
    "            pageVideoURLs.append(vid.find('iframe').get('src'))"
   ]
  },
  {
   "cell_type": "code",
   "execution_count": null,
   "id": "2e194f8a",
   "metadata": {},
   "outputs": [],
   "source": [
    "    subHeadingH2 = subContent.findAll('h2', {\"class\": \"h2\"})  # Sub Headings h2\n",
    "    pageSubHeadingsH2 = []\n",
    "    if subHeadingH2 is not None:\n",
    "        for head in subHeadingH2:\n",
    "            pageSubHeadingsH2.append(head.text)"
   ]
  },
  {
   "cell_type": "code",
   "execution_count": null,
   "id": "6b21ab59",
   "metadata": {},
   "outputs": [],
   "source": [
    "    subHeadingH3 = subContent.findAll('h3')  # Sub Headings h3\n",
    "    pageSubHeadingsH3 = []\n",
    "    if subHeadingH3 is not None:\n",
    "        for head in subHeadingH3:\n",
    "            pageSubHeadingsH3.append(head.text)"
   ]
  },
  {
   "cell_type": "code",
   "execution_count": null,
   "id": "c2b3b630",
   "metadata": {},
   "outputs": [],
   "source": [
    "    subHeadingH4 = subContent.findAll('h4')  # Sub Headings h3\n",
    "    pageSubHeadingsH4 = []\n",
    "    if subHeadingH4 is not None:\n",
    "        for head in subHeadingH4:\n",
    "            pageSubHeadingsH4.append(head.text)"
   ]
  },
  {
   "cell_type": "code",
   "execution_count": null,
   "id": "03ceaae9",
   "metadata": {},
   "outputs": [],
   "source": [
    "    paragraphs = subContent.findAll('p')  # Paragraphs\n",
    "    pageFacts = []\n",
    "    pageDefinitions = []\n",
    "    pageExplanations = []\n",
    "    if paragraphs is not None:\n",
    "        for para in paragraphs[1:]:\n",
    "            slug = para.text\n",
    "            if 10 <= len(slug) <= 149:\n",
    "                pageFacts.append(slug)\n",
    "            elif 150 <= len(slug) <= 249:\n",
    "                pageDefinitions.append(slug)\n",
    "            elif 250 <= len(slug):\n",
    "                pageExplanations.append(slug)"
   ]
  },
  {
   "cell_type": "code",
   "execution_count": null,
   "id": "e7b56111",
   "metadata": {},
   "outputs": [],
   "source": [
    "    codeContent = subContent.findAll('div', {\"class\": \"codeblock\"})  # Codes\n",
    "    pageSnippets = []\n",
    "    pageCodes = []\n",
    "    if codeContent is not None:\n",
    "        for slug in codeContent:\n",
    "            for cod in slug.text.split('\\n'):\n",
    "                if cod != '' and not cod.lstrip().rstrip().startswith('//') and len(cod) > 7:\n",
    "                    cod = cod.lstrip().rstrip()\n",
    "                    pageCodes.append(cod)"
   ]
  },
  {
   "cell_type": "code",
   "execution_count": null,
   "id": "8458d2b2",
   "metadata": {},
   "outputs": [],
   "source": [
    "    outputContent = subContent.findAll('pre')  # Outputs\n",
    "    pageOutputs = []\n",
    "    if outputContent is not None:\n",
    "        for slug in outputContent:\n",
    "            for out in slug.text.split('\\r\\n'):\n",
    "                if out != '':\n",
    "                    out = out.lstrip().rstrip()\n",
    "                    pageOutputs.append(out)"
   ]
  },
  {
   "cell_type": "code",
   "execution_count": null,
   "id": "9dd27d6e",
   "metadata": {},
   "outputs": [],
   "source": [
    "    tables = subContent.findAll('table', {'class': 'alt'})  # Tables\n",
    "    pageTableData = []\n",
    "    if tables is not None:\n",
    "        for tb in tables:\n",
    "            table = \"\"\n",
    "            rowData = []\n",
    "            tableRows = tb.findAll('tr')\n",
    "            for row in tableRows:\n",
    "                rowData.append(row.text[1:-1].replace('\\n', '|||'))\n",
    "            for row in rowData:\n",
    "                table = table + str(row) + '&&&'\n",
    "            pageTableData.append(table[:-3])"
   ]
  },
  {
   "cell_type": "code",
   "execution_count": null,
   "id": "e7153581",
   "metadata": {},
   "outputs": [],
   "source": [
    "    allListUL = subContent.findAll('ul', {\"class\": \"points\"})  # List Items\n",
    "    allListOL = subContent.findAll('ol', {\"class\": \"points\"})\n",
    "    listUL = \"\"\n",
    "    listOL = \"\"\n",
    "    listItem = \"\"\n",
    "    pageListItems = []\n",
    "    if len(allListUL) != 0 or len(allListOL) != 0:\n",
    "        if len(allListUL) != 0:\n",
    "            for lis in allListUL:\n",
    "                listUL = listUL + str(lis.text).replace('\\n', '|||').replace('\\t\\t', '')\n",
    "        if len(allListOL) != 0:\n",
    "            for lis in allListOL:\n",
    "                listOL = listOL + str(lis.text).replace('\\n', '|||').replace('\\t\\t', '')\n",
    "\n",
    "        if len(allListUL) != 0 and len(allListOL) == 0:\n",
    "            listItem = listItem + listUL\n",
    "        elif len(allListUL) == 0 and len(allListOL) != 0:\n",
    "            listItem = listItem + listOL\n",
    "        else:\n",
    "            listItem = listItem + listUL + '&&&' + listOL\n",
    "        pageListItems.append(listItem)"
   ]
  },
  {
   "cell_type": "code",
   "execution_count": null,
   "id": "d47369bd",
   "metadata": {},
   "outputs": [],
   "source": [
    "    # print(pageMainHeadings)\n",
    "    # print(pageMainContents)\n",
    "    # print(pageLinks)\n",
    "    # print(pageImageURLs)\n",
    "    # print(pageVideoURLs)\n",
    "    # print(pageSubHeadingsH2)\n",
    "    # print(pageSubHeadingsH3)\n",
    "    # print(pageSubHeadingsH4)\n",
    "    # print(pageFacts)\n",
    "    # print(pageDefinitions)\n",
    "    # print(pageExplanations)\n",
    "    # print(pageCodes)\n",
    "    # print(pageOutputs)\n",
    "    # print(pageTableData)\n",
    "    # print(pageListItems)"
   ]
  },
  {
   "cell_type": "code",
   "execution_count": null,
   "id": "3c10103b",
   "metadata": {},
   "outputs": [],
   "source": [
    "    mainHeadings.append(pageMainHeadings)\n",
    "    mainContents.append(pageMainContents)\n",
    "    links.append(pageLinks)\n",
    "    imageURLs.append(pageImageURLs)\n",
    "    videoURLs.append(pageVideoURLs)\n",
    "    subHeadingsH2.append(pageSubHeadingsH2)\n",
    "    subHeadingsH3.append(pageSubHeadingsH3)\n",
    "    subHeadingsH4.append(pageSubHeadingsH4)\n",
    "    facts.append(pageFacts)\n",
    "    definitions.append(pageDefinitions)\n",
    "    explanations.append(pageExplanations)\n",
    "    codes.append(pageCodes)\n",
    "    outputs.append(pageOutputs)\n",
    "    listItems.append(pageListItems)\n",
    "    tableData.append(pageTableData)"
   ]
  },
  {
   "cell_type": "code",
   "execution_count": null,
   "id": "172c6bf7",
   "metadata": {},
   "outputs": [],
   "source": [
    "data = {'main_headings': mainHeadings, 'main_contents': mainContents, 'links': links, 'image_urls': imageURLs,\n",
    "        'video_urls': videoURLs, 'sub_headings_h2': subHeadingsH2, 'sub_headings_h3': subHeadingsH3,\n",
    "        'sub_headings_h4': subHeadingsH4, 'facts': facts, 'definitions': definitions, 'explanations': explanations,\n",
    "        'codes': codes, 'outputs': outputs, 'table_data': tableData, 'list_items': listItems}\n",
    "\n",
    "df = pd.DataFrame(data)\n",
    "df.to_csv('Javatpoint-PHP-Data.csv')"
   ]
  }
 ],
 "metadata": {
  "kernelspec": {
   "display_name": "Python 3 (ipykernel)",
   "language": "python",
   "name": "python3"
  },
  "language_info": {
   "codemirror_mode": {
    "name": "ipython",
    "version": 3
   },
   "file_extension": ".py",
   "mimetype": "text/x-python",
   "name": "python",
   "nbconvert_exporter": "python",
   "pygments_lexer": "ipython3",
   "version": "3.9.7"
  }
 },
 "nbformat": 4,
 "nbformat_minor": 5
}
