{
 "cells": [
  {
   "cell_type": "code",
   "execution_count": null,
   "id": "edc33962",
   "metadata": {},
   "outputs": [],
   "source": [
    "# Web Scraping Java Tutorial Data from GeeksforGeeks\n",
    "\n",
    "import requests\n",
    "from bs4 import BeautifulSoup\n",
    "import pandas as pd"
   ]
  },
  {
   "cell_type": "code",
   "execution_count": null,
   "id": "7d26873e",
   "metadata": {},
   "outputs": [],
   "source": [
    "mainURL = \"https://www.geeksforgeeks.org/java/?ref=shm\"\n",
    "\n",
    "page = requests.get(mainURL)\n",
    "htmlContent = page.content\n",
    "soup = BeautifulSoup(htmlContent, 'html.parser')\n",
    "\n",
    "urls = []\n",
    "pages = soup.find('ul', {'class': 'leftBarList'}).findAll(href=True)\n",
    "for slug in pages[1:]:\n",
    "    urls.append(slug.get('href'))"
   ]
  },
  {
   "cell_type": "code",
   "execution_count": null,
   "id": "508f705f",
   "metadata": {},
   "outputs": [],
   "source": [
    "mainHeadings = []\n",
    "subHeadingsH2 = []\n",
    "subHeadingsH3 = []\n",
    "imageURLs = []\n",
    "videoURLs = []\n",
    "links = []\n",
    "facts = []\n",
    "definitions = []\n",
    "explanations = []\n",
    "codes = []\n",
    "outputs = []\n",
    "listItems = []\n",
    "tableData = []\n",
    "data = {}"
   ]
  },
  {
   "cell_type": "code",
   "execution_count": null,
   "id": "b9b478fa",
   "metadata": {},
   "outputs": [],
   "source": [
    "for url in urls:\n",
    "    page = requests.get(url)\n",
    "    htmlContent = page.content\n",
    "    soup = BeautifulSoup(htmlContent, 'html5lib')"
   ]
  },
  {
   "cell_type": "code",
   "execution_count": null,
   "id": "1fc4c7f9",
   "metadata": {},
   "outputs": [],
   "source": [
    "    subContent = soup.find('article', {\"class\": \"content\"})  # Page Sub Content\n",
    "    if subContent is None:\n",
    "        continue"
   ]
  },
  {
   "cell_type": "code",
   "execution_count": null,
   "id": "c4977120",
   "metadata": {},
   "outputs": [],
   "source": [
    "    mainHeading = subContent.findAll('h1')  # Main Heading\n",
    "    pageMainHeadings = []\n",
    "    if mainHeading is not None:\n",
    "        for head in mainHeading:\n",
    "            pageMainHeadings.append(head.text)"
   ]
  },
  {
   "cell_type": "code",
   "execution_count": null,
   "id": "178508a1",
   "metadata": {},
   "outputs": [],
   "source": [
    "    subHeadingH2 = subContent.findAll('h2')  # Sub Headings h2\n",
    "    pageSubHeadingsH2 = []\n",
    "    if subHeadingH2 is not None:\n",
    "        for head in subHeadingH2:\n",
    "            pageSubHeadingsH2.append(head.text)"
   ]
  },
  {
   "cell_type": "code",
   "execution_count": null,
   "id": "18038c98",
   "metadata": {},
   "outputs": [],
   "source": [
    "    subHeadingH3 = subContent.findAll('h3')  # Sub Headings h3\n",
    "    pageSubHeadingsH3 = []\n",
    "    if subHeadingH3 is not None:\n",
    "        for head in subHeadingH3:\n",
    "            pageSubHeadingsH3.append(head.text)"
   ]
  },
  {
   "cell_type": "code",
   "execution_count": null,
   "id": "f2ae3f58",
   "metadata": {},
   "outputs": [],
   "source": [
    "    images = subContent.findAll('img')  # Images\n",
    "    pageImageURLs = []\n",
    "    if images is not None:\n",
    "        for img in images[:-1]:\n",
    "            pageImageURLs.append(img.get('src'))"
   ]
  },
  {
   "cell_type": "code",
   "execution_count": null,
   "id": "303c76fe-68a2-4158-bafe-20d409402010",
   "metadata": {},
   "outputs": [],
   "source": [
    "    videos = subContent.findAll('iframe')  # Videos\n",
    "    pageVideoURLs = []\n",
    "    if videos is not None:\n",
    "        for vid in videos:\n",
    "            pageVideoURLs.append(vid.get('src'))"
   ]
  },
  {
   "cell_type": "code",
   "execution_count": null,
   "id": "efdd6ec6",
   "metadata": {},
   "outputs": [],
   "source": [
    "    link = subContent.findAll('a')  # Page Links\n",
    "    pageLinks = []\n",
    "    if link is not None:\n",
    "        for lin in link:\n",
    "            if lin.get('href') is not None and not lin.get('href').startswith('http'):\n",
    "                pageLinks.append('https://www.geeksforgeeks.org/' + lin.get('href'))\n",
    "            else:\n",
    "                pageLinks.append(lin.get('href'))"
   ]
  },
  {
   "cell_type": "code",
   "execution_count": null,
   "id": "8a2c8922",
   "metadata": {},
   "outputs": [],
   "source": [
    "    paragraphs = subContent.findAll('p')  # Paragraphs\n",
    "    pageFacts = []\n",
    "    pageDefinitions = []\n",
    "    pageExplanations = []\n",
    "    if paragraphs is not None:\n",
    "        for para in paragraphs:\n",
    "            slug = para.text.replace('\\n', '')\n",
    "            if 10 <= len(slug) <= 99:\n",
    "                pageFacts.append(slug)\n",
    "            elif 100 <= len(slug) <= 399:\n",
    "                pageDefinitions.append(slug)\n",
    "            elif 400 <= len(slug):\n",
    "                pageExplanations.append(slug)"
   ]
  },
  {
   "cell_type": "code",
   "execution_count": null,
   "id": "69ef3fae",
   "metadata": {},
   "outputs": [],
   "source": [
    "    codeContent = subContent.findAll('div', {\"class\": \"container\"})  # Codes\n",
    "    pageCodes = []\n",
    "    if codeContent is not None:\n",
    "        for slug in codeContent:\n",
    "            pageCodes.append(slug.text.replace('\\xa0', ' ').lstrip().rstrip())"
   ]
  },
  {
   "cell_type": "code",
   "execution_count": null,
   "id": "f5363705",
   "metadata": {},
   "outputs": [],
   "source": [
    "    outputContent = subContent.findAll('pre')  # Outputs\n",
    "    pageOutputs = []\n",
    "    if outputContent is not None:\n",
    "        for slug in outputContent:\n",
    "            if slug.text != '':\n",
    "                pageOutputs.append(slug.text.lstrip().rstrip())"
   ]
  },
  {
   "cell_type": "code",
   "execution_count": null,
   "id": "4dfe3a14",
   "metadata": {},
   "outputs": [],
   "source": [
    "    tab = subContent.findAll('figure', {\"class\": \"table\"})  # Tables\n",
    "    tables = []\n",
    "    for t in tab:\n",
    "        tables.append(t.table)\n",
    "    pageTableData = []\n",
    "    if tables is not None:\n",
    "        for tb in tables:\n",
    "            final = ''\n",
    "            for td in tb.findAll('tr'):\n",
    "                table = ''\n",
    "                row = ''\n",
    "                data = td.findAll('td')\n",
    "                if len(data) != 0:\n",
    "                    for d in data:\n",
    "                        row = row + str(d.text) + '|||'\n",
    "                    table = table + row[:-3:1] + '&&&'\n",
    "                    final = final + table\n",
    "            if final != '':\n",
    "                pageTableData.append(final[:-3:1])"
   ]
  },
  {
   "cell_type": "code",
   "execution_count": null,
   "id": "596abfbd",
   "metadata": {},
   "outputs": [],
   "source": [
    "    allListUL = subContent.findAll('ul')[1:]  # List Items\n",
    "    allListOL = subContent.findAll('ol')\n",
    "    listItem = \"\"\n",
    "    ulListItem = \"\"\n",
    "    olListItem = \"\"\n",
    "    pageListItems = []\n",
    "    if len(allListUL) != 0 or len(allListOL) != 0:\n",
    "        if len(allListUL) != 0:\n",
    "            ulListItem = ''\n",
    "            for ulLis in allListUL:\n",
    "                listUL = \"\"\n",
    "                for lis in ulLis.findAll('li'):\n",
    "                    listUL = listUL + str(lis.text).replace('\\xa0', '') + '|||'\n",
    "                ulListItem = ulListItem + listUL[:-3:1] + '&&&'\n",
    "        if len(allListOL) != 0:\n",
    "            olListItem = ''\n",
    "            for olLis in allListOL:\n",
    "                listOL = \"\"\n",
    "                for lis in olLis.findAll('li'):\n",
    "                    listOL = listOL + str(lis.text).replace('\\xa0', '') + '|||'\n",
    "                olListItem = olListItem + listOL[:-3:1] + '&&&'\n",
    "        if len(allListUL) != 0 and len(allListOL) == 0:\n",
    "            listItem = listItem + ulListItem[:-3:1]\n",
    "        elif len(allListUL) == 0 and len(allListOL) != 0:\n",
    "            listItem = listItem + olListItem[:-3:1]\n",
    "        else:\n",
    "            listItem = listItem + ulListItem + '&&&' + olListItem\n",
    "        pageListItems.append(listItem)"
   ]
  },
  {
   "cell_type": "code",
   "execution_count": null,
   "id": "3cfb3423",
   "metadata": {},
   "outputs": [],
   "source": [
    "    # print(pageMainHeadings)\n",
    "    # print(pageSubHeadingsH2)\n",
    "    # print(pageSubHeadingsH3)\n",
    "    # print(pageImageURLs)\n",
    "    # print(pageVideoURLs)\n",
    "    # print(pageLinks)\n",
    "    # print(pageFacts)\n",
    "    # print(pageDefinitions)\n",
    "    # print(pageExplanations)\n",
    "    # print(pageCodes)\n",
    "    # print(pageOutputs)\n",
    "    # print(pageTableData)\n",
    "    # print(pageListItems)"
   ]
  },
  {
   "cell_type": "code",
   "execution_count": null,
   "id": "3ebf07e7",
   "metadata": {},
   "outputs": [],
   "source": [
    "    mainHeadings.append(pageMainHeadings)\n",
    "    subHeadingsH2.append(pageSubHeadingsH2)\n",
    "    subHeadingsH3.append(pageSubHeadingsH3)\n",
    "    imageURLs.append(pageImageURLs)\n",
    "    videoURLs.append(pageVideoURLs)\n",
    "    links.append(pageLinks)\n",
    "    facts.append(pageFacts)\n",
    "    definitions.append(pageDefinitions)\n",
    "    explanations.append(pageExplanations)\n",
    "    codes.append(pageCodes)\n",
    "    outputs.append(pageOutputs)\n",
    "    tableData.append(pageTableData)\n",
    "    listItems.append(pageListItems)"
   ]
  },
  {
   "cell_type": "code",
   "execution_count": null,
   "id": "3b342cd8",
   "metadata": {},
   "outputs": [],
   "source": [
    "data = {'main_headings': mainHeadings, 'sub_headings_h2': subHeadingsH2, 'sub_headings_h3': subHeadingsH3,\n",
    "        'image_urls': imageURLs, 'video_urls': videoURLs, 'links': links, 'facts': facts, 'definitions': definitions,\n",
    "        'explanations': explanations, 'codes': codes, 'outputs': outputs, 'table_data': tableData,\n",
    "        'list_items': listItems}\n",
    "\n",
    "df = pd.DataFrame(data)\n",
    "df.to_csv('GeeksforGeeks-Java-Data.csv')"
   ]
  }
 ],
 "metadata": {
  "kernelspec": {
   "display_name": "Python 3 (ipykernel)",
   "language": "python",
   "name": "python3"
  },
  "language_info": {
   "codemirror_mode": {
    "name": "ipython",
    "version": 3
   },
   "file_extension": ".py",
   "mimetype": "text/x-python",
   "name": "python",
   "nbconvert_exporter": "python",
   "pygments_lexer": "ipython3",
   "version": "3.9.7"
  }
 },
 "nbformat": 4,
 "nbformat_minor": 5
}
