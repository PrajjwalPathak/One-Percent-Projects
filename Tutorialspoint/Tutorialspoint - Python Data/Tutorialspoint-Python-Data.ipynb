{
 "cells": [
  {
   "cell_type": "code",
   "execution_count": null,
   "id": "901caa63",
   "metadata": {},
   "outputs": [],
   "source": [
    "# Web Scraping Python Tutorial Data from Tutorialspoint\n",
    "\n",
    "import requests\n",
    "from bs4 import BeautifulSoup\n",
    "import pandas as pd"
   ]
  },
  {
   "cell_type": "code",
   "execution_count": null,
   "id": "60271139",
   "metadata": {},
   "outputs": [],
   "source": [
    "mainURL = \"https://www.tutorialspoint.com/python3/index.htm\"\n",
    "\n",
    "page = requests.get(mainURL)\n",
    "htmlContent = page.content\n",
    "soup = BeautifulSoup(htmlContent, 'html.parser')\n",
    "\n",
    "urls = []\n",
    "pages = soup.find('div', {'class': 'tutorial-toc'}).findAll(href=True)\n",
    "for slug in pages[:-12]:\n",
    "    urls.append('https://www.tutorialspoint.com' + slug.get('href'))"
   ]
  },
  {
   "cell_type": "code",
   "execution_count": null,
   "id": "a5639c57",
   "metadata": {},
   "outputs": [],
   "source": [
    "mainHeadings = []\n",
    "subHeadingsH2 = []\n",
    "subHeadingsH3 = []\n",
    "links = []\n",
    "imageURLs = []\n",
    "facts = []\n",
    "definitions = []\n",
    "explanations = []\n",
    "codes = []\n",
    "outputs = []\n",
    "listItems = []\n",
    "tableData = []\n",
    "data = {}"
   ]
  },
  {
   "cell_type": "code",
   "execution_count": null,
   "id": "92e7f8db-a152-4ad2-82c1-5fdbcf62033e",
   "metadata": {},
   "outputs": [],
   "source": [
    "for url in urls:\n",
    "    page = requests.get(url)\n",
    "    htmlContent = page.content\n",
    "    soup = BeautifulSoup(htmlContent, 'html.parser')"
   ]
  },
  {
   "cell_type": "code",
   "execution_count": null,
   "id": "c477226c-9547-4a2f-8c45-2e3a22d15305",
   "metadata": {},
   "outputs": [],
   "source": [
    "    subContent = soup.find('div', {\"class\": \"tutorial-content\"})  # Page Sub Content\n",
    "    if subContent is None:\n",
    "        continue"
   ]
  },
  {
   "cell_type": "code",
   "execution_count": null,
   "id": "ff65fc73",
   "metadata": {},
   "outputs": [],
   "source": [
    "    mainHeading = subContent.findAll('h1')  # Main Heading\n",
    "    pageMainHeadings = []\n",
    "    if mainHeading is not None:\n",
    "        for head in mainHeading:\n",
    "            pageMainHeadings.append(head.text)"
   ]
  },
  {
   "cell_type": "code",
   "execution_count": null,
   "id": "8fb88392",
   "metadata": {},
   "outputs": [],
   "source": [
    "    subHeadingH2 = subContent.findAll('h2')  # Sub Headings h2\n",
    "    pageSubHeadingsH2 = []\n",
    "    if subHeadingH2 is not None:\n",
    "        for head in subHeadingH2:\n",
    "            pageSubHeadingsH2.append(head.text)"
   ]
  },
  {
   "cell_type": "code",
   "execution_count": null,
   "id": "4e7001ba",
   "metadata": {},
   "outputs": [],
   "source": [
    "    subHeadingH3 = subContent.findAll('h3')  # Sub Headings h3\n",
    "    pageSubHeadingsH3 = []\n",
    "    if subHeadingH3 is not None:\n",
    "        for head in subHeadingH3:\n",
    "            pageSubHeadingsH3.append(head.text)"
   ]
  },
  {
   "cell_type": "code",
   "execution_count": null,
   "id": "099bb5b5",
   "metadata": {},
   "outputs": [],
   "source": [
    "    link = subContent.findAll('a')  # Page Links\n",
    "    pageLinks = []\n",
    "    if link is not None:\n",
    "        for lin in link:\n",
    "            if lin.get('href') is not None and not lin.get('href').startswith('http'):\n",
    "                pageLinks.append('https://www.tutorialspoint.com' + lin.get('href'))\n",
    "            else:\n",
    "                pageLinks.append(lin.get('href'))"
   ]
  },
  {
   "cell_type": "code",
   "execution_count": null,
   "id": "aa4752e1",
   "metadata": {},
   "outputs": [],
   "source": [
    "    images = subContent.findAll('img')  # Images\n",
    "    pageImageURLs = []\n",
    "    if images is not None:\n",
    "        for img in images:\n",
    "            if img.get('src') is not None and not img.get('src').startswith('http'):\n",
    "                pageImageURLs.append('https://www.tutorialspoint.com' + img.get('src'))\n",
    "            else:\n",
    "                pageImageURLs.append(img.get('src'))"
   ]
  },
  {
   "cell_type": "code",
   "execution_count": null,
   "id": "2e194f8a",
   "metadata": {},
   "outputs": [],
   "source": [
    "    paragraphs = subContent.findAll('p')  # Paragraphs\n",
    "    pageFacts = []\n",
    "    pageDefinitions = []\n",
    "    pageExplanations = []\n",
    "    if paragraphs is not None:\n",
    "        for para in paragraphs:\n",
    "            slug = para.text.replace('\\n', '')\n",
    "            if 36 <= len(slug) <= 79:\n",
    "                pageFacts.append(slug)\n",
    "            elif 80 <= len(slug) <= 119:\n",
    "                pageDefinitions.append(slug)\n",
    "            elif 120 <= len(slug):\n",
    "                pageExplanations.append(slug)"
   ]
  },
  {
   "cell_type": "code",
   "execution_count": null,
   "id": "6b21ab59",
   "metadata": {},
   "outputs": [],
   "source": [
    "    codeContent = subContent.findAll('pre', not {\"class\": \"result\"})  # Codes\n",
    "    pageCodes = []\n",
    "    if codeContent is not None:\n",
    "        for slug in codeContent:\n",
    "            pageCodes.append(slug.text)"
   ]
  },
  {
   "cell_type": "code",
   "execution_count": null,
   "id": "29a7fb74-aa65-4482-867d-af3320226343",
   "metadata": {},
   "outputs": [],
   "source": [
    "    outputContent = subContent.findAll('pre', {\"class\": \"result\"})  # Outputs\n",
    "    pageOutputs = []\n",
    "    if outputContent is not None:\n",
    "        for slug in outputContent:\n",
    "            pageOutputs.append(slug.text)"
   ]
  },
  {
   "cell_type": "code",
   "execution_count": null,
   "id": "c2b3b630",
   "metadata": {},
   "outputs": [],
   "source": [
    "    tables = subContent.findAll('table')  # Tables\n",
    "    pageTableData = []\n",
    "    if tables is not None:\n",
    "        for tb in tables:\n",
    "            table = \"\"\n",
    "            rowData = []\n",
    "            tableRows = tb.findAll('tr')\n",
    "            for row in tableRows:\n",
    "                rowData.append(row.text[1:-1].replace('\\n', '|||'))\n",
    "            for row in rowData:\n",
    "                table = table + str(row) + '&&&'\n",
    "            pageTableData.append(table[:-3])"
   ]
  },
  {
   "cell_type": "code",
   "execution_count": null,
   "id": "03ceaae9",
   "metadata": {},
   "outputs": [],
   "source": [
    "    allListUL = subContent.findAll('ul')  # List Items\n",
    "    allListOL = subContent.findAll('ol')\n",
    "    listUL = \"\"\n",
    "    listOL = \"\"\n",
    "    listItem = \"\"\n",
    "    pageListItems = []\n",
    "    if len(allListUL) != 0 or len(allListOL) != 0:\n",
    "        if len(allListUL) != 0:\n",
    "            for lis in allListUL:\n",
    "                listUL = listUL + str(lis.text[1:]).replace('\\n', '|||').replace('\\t\\t', '')\n",
    "        if len(allListOL) != 0:\n",
    "            for lis in allListOL:\n",
    "                listOL = listOL + str(lis.text[1:]).replace('\\n', '|||').replace('\\t\\t', '')\n",
    "        if len(allListUL) != 0 and len(allListOL) == 0:\n",
    "            listItem = listItem + listUL\n",
    "        elif len(allListUL) == 0 and len(allListOL) != 0:\n",
    "            listItem = listItem + listOL\n",
    "        else:\n",
    "            listItem = listItem + listUL + '&&&' + listOL\n",
    "        pageListItems.append(listItem)"
   ]
  },
  {
   "cell_type": "code",
   "execution_count": null,
   "id": "d47369bd",
   "metadata": {},
   "outputs": [],
   "source": [
    "    # print(pageMainHeadings)\n",
    "    # print(pageSubHeadingsH2)\n",
    "    # print(pageSubHeadingsH3)\n",
    "    # print(pageLinks)\n",
    "    # print(pageImageURLs)\n",
    "    # print(pageFacts)\n",
    "    # print(pageDefinitions)\n",
    "    # print(pageExplanations)\n",
    "    # print(pageCodes)\n",
    "    # print(pageOutputs)\n",
    "    # print(pageTableData)\n",
    "    # print(pageListItems)"
   ]
  },
  {
   "cell_type": "code",
   "execution_count": null,
   "id": "3c10103b",
   "metadata": {},
   "outputs": [],
   "source": [
    "    mainHeadings.append(pageMainHeadings)\n",
    "    subHeadingsH2.append(pageSubHeadingsH2)\n",
    "    subHeadingsH3.append(pageSubHeadingsH3)\n",
    "    links.append(pageLinks)\n",
    "    imageURLs.append(pageImageURLs)\n",
    "    facts.append(pageFacts)\n",
    "    definitions.append(pageDefinitions)\n",
    "    explanations.append(pageExplanations)\n",
    "    codes.append(pageCodes)\n",
    "    outputs.append(pageOutputs)\n",
    "    tableData.append(pageTableData)\n",
    "    listItems.append(pageListItems)"
   ]
  },
  {
   "cell_type": "code",
   "execution_count": null,
   "id": "172c6bf7",
   "metadata": {},
   "outputs": [],
   "source": [
    "data = {'main_headings': mainHeadings, 'sub_headings_h2': subHeadingsH2, 'sub_headings_h3': subHeadingsH3,\n",
    "        'links': links, 'image_urls': imageURLs, 'facts': facts, 'definitions': definitions,\n",
    "        'explanations': explanations, 'codes': codes, 'outputs': outputs, 'table_data': tableData,\n",
    "        'list_items': listItems}\n",
    "\n",
    "df = pd.DataFrame(data)\n",
    "df.to_csv('Tutorialspoint-Python-Data.csv')"
   ]
  }
 ],
 "metadata": {
  "kernelspec": {
   "display_name": "Python 3 (ipykernel)",
   "language": "python",
   "name": "python3"
  },
  "language_info": {
   "codemirror_mode": {
    "name": "ipython",
    "version": 3
   },
   "file_extension": ".py",
   "mimetype": "text/x-python",
   "name": "python",
   "nbconvert_exporter": "python",
   "pygments_lexer": "ipython3",
   "version": "3.9.7"
  }
 },
 "nbformat": 4,
 "nbformat_minor": 5
}
